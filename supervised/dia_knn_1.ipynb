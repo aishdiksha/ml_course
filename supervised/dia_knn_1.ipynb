{
 "cells": [
  {
   "cell_type": "code",
   "execution_count": 29,
   "metadata": {},
   "outputs": [],
   "source": [
    "    import pandas as pd\n",
    "    from sklearn.model_selection import train_test_split\n",
    "    from sklearn.neighbors import KNeighborsClassifier\n",
    "    import matplotlib.pyplot as plt\n",
    "    import plotly.express as px\n",
    "    from sklearn.preprocessing import StandardScaler\n",
    "    from sklearn.model_selection import GridSearchCV"
   ]
  },
  {
   "cell_type": "code",
   "execution_count": 30,
   "metadata": {},
   "outputs": [
    {
     "data": {
      "text/html": [
       "<div>\n",
       "<style scoped>\n",
       "    .dataframe tbody tr th:only-of-type {\n",
       "        vertical-align: middle;\n",
       "    }\n",
       "\n",
       "    .dataframe tbody tr th {\n",
       "        vertical-align: top;\n",
       "    }\n",
       "\n",
       "    .dataframe thead th {\n",
       "        text-align: right;\n",
       "    }\n",
       "</style>\n",
       "<table border=\"1\" class=\"dataframe\">\n",
       "  <thead>\n",
       "    <tr style=\"text-align: right;\">\n",
       "      <th></th>\n",
       "      <th>Pregnancies</th>\n",
       "      <th>Glucose</th>\n",
       "      <th>BloodPressure</th>\n",
       "      <th>SkinThickness</th>\n",
       "      <th>Insulin</th>\n",
       "      <th>BMI</th>\n",
       "      <th>DiabetesPedigreeFunction</th>\n",
       "      <th>Age</th>\n",
       "      <th>Outcome</th>\n",
       "    </tr>\n",
       "  </thead>\n",
       "  <tbody>\n",
       "    <tr>\n",
       "      <th>0</th>\n",
       "      <td>6</td>\n",
       "      <td>148</td>\n",
       "      <td>72</td>\n",
       "      <td>35</td>\n",
       "      <td>0</td>\n",
       "      <td>33.6</td>\n",
       "      <td>0.627</td>\n",
       "      <td>50</td>\n",
       "      <td>1</td>\n",
       "    </tr>\n",
       "    <tr>\n",
       "      <th>1</th>\n",
       "      <td>1</td>\n",
       "      <td>85</td>\n",
       "      <td>66</td>\n",
       "      <td>29</td>\n",
       "      <td>0</td>\n",
       "      <td>26.6</td>\n",
       "      <td>0.351</td>\n",
       "      <td>31</td>\n",
       "      <td>0</td>\n",
       "    </tr>\n",
       "    <tr>\n",
       "      <th>2</th>\n",
       "      <td>8</td>\n",
       "      <td>183</td>\n",
       "      <td>64</td>\n",
       "      <td>0</td>\n",
       "      <td>0</td>\n",
       "      <td>23.3</td>\n",
       "      <td>0.672</td>\n",
       "      <td>32</td>\n",
       "      <td>1</td>\n",
       "    </tr>\n",
       "    <tr>\n",
       "      <th>3</th>\n",
       "      <td>1</td>\n",
       "      <td>89</td>\n",
       "      <td>66</td>\n",
       "      <td>23</td>\n",
       "      <td>94</td>\n",
       "      <td>28.1</td>\n",
       "      <td>0.167</td>\n",
       "      <td>21</td>\n",
       "      <td>0</td>\n",
       "    </tr>\n",
       "    <tr>\n",
       "      <th>4</th>\n",
       "      <td>0</td>\n",
       "      <td>137</td>\n",
       "      <td>40</td>\n",
       "      <td>35</td>\n",
       "      <td>168</td>\n",
       "      <td>43.1</td>\n",
       "      <td>2.288</td>\n",
       "      <td>33</td>\n",
       "      <td>1</td>\n",
       "    </tr>\n",
       "  </tbody>\n",
       "</table>\n",
       "</div>"
      ],
      "text/plain": [
       "   Pregnancies  Glucose  BloodPressure  SkinThickness  Insulin   BMI  \\\n",
       "0            6      148             72             35        0  33.6   \n",
       "1            1       85             66             29        0  26.6   \n",
       "2            8      183             64              0        0  23.3   \n",
       "3            1       89             66             23       94  28.1   \n",
       "4            0      137             40             35      168  43.1   \n",
       "\n",
       "   DiabetesPedigreeFunction  Age  Outcome  \n",
       "0                     0.627   50        1  \n",
       "1                     0.351   31        0  \n",
       "2                     0.672   32        1  \n",
       "3                     0.167   21        0  \n",
       "4                     2.288   33        1  "
      ]
     },
     "execution_count": 30,
     "metadata": {},
     "output_type": "execute_result"
    }
   ],
   "source": [
    "df = pd.read_csv('https://raw.githubusercontent.com/digipodium/Datasets/main/diabetes.csv')\n",
    "df.head()"
   ]
  },
  {
   "cell_type": "code",
   "execution_count": 31,
   "metadata": {},
   "outputs": [
    {
     "data": {
      "text/plain": [
       "<AxesSubplot:>"
      ]
     },
     "execution_count": 31,
     "metadata": {},
     "output_type": "execute_result"
    },
    {
     "data": {
      "image/png": "[encoded data removed]",
      "text/plain": [
       "<Figure size 432x288 with 1 Axes>"
      ]
     },
     "metadata": {
      "needs_background": "light"
     },
     "output_type": "display_data"
    }
   ],
   "source": [
    "df.Outcome.value_counts().plot(kind='bar')\n"
   ]
  },
  {
   "cell_type": "code",
   "execution_count": 32,
   "metadata": {},
   "outputs": [
    {
     "data": {
      "text/plain": [
       "((614, 2), (154, 2))"
      ]
     },
     "execution_count": 32,
     "metadata": {},
     "output_type": "execute_result"
    }
   ],
   "source": [
    "X = df[['Glucose','BloodPressure']]\n",
    "y = df['Outcome']\n",
    "scaler = StandardScaler()\n",
    "scaledX = scaler.fit_transform(X)\n",
    "xtrain, xtest, ytrain, ytest = train_test_split(scaledX,y,test_size=.2,)\n",
    "xtrain.shape,xtest.shape"
   ]
  },
  {
   "cell_type": "code",
   "execution_count": 33,
   "metadata": {},
   "outputs": [
    {
     "data": {
      "text/plain": [
       "KNeighborsClassifier(n_neighbors=7)"
      ]
     },
     "execution_count": 33,
     "metadata": {},
     "output_type": "execute_result"
    }
   ],
   "source": [
    "m = KNeighborsClassifier(n_neighbors=7)\n",
    "m.fit(xtrain, ytrain)"
   ]
  },
  {
   "cell_type": "code",
   "execution_count": 34,
   "metadata": {},
   "outputs": [
    {
     "data": {
      "text/plain": [
       "0.7402597402597403"
      ]
     },
     "execution_count": 34,
     "metadata": {},
     "output_type": "execute_result"
    }
   ],
   "source": [
    "m.score(xtest,ytest) # you should not see the score like this, we use other stuff"
   ]
  },
  {
   "cell_type": "code",
   "execution_count": 35,
   "metadata": {},
   "outputs": [],
   "source": [
    "from sklearn.metrics import classification_report\n",
    "from sklearn.metrics import confusion_matrix"
   ]
  },
  {
   "cell_type": "code",
   "execution_count": 36,
   "metadata": {},
   "outputs": [],
   "source": [
    "ypred = m.predict(xtest)"
   ]
  },
  {
   "cell_type": "code",
   "execution_count": 37,
   "metadata": {},
   "outputs": [],
   "source": [
    "import seaborn as sns"
   ]
  },
  {
   "cell_type": "code",
   "execution_count": 38,
   "metadata": {},
   "outputs": [
    {
     "name": "stdout",
     "output_type": "stream",
     "text": [
      "[[91  8]\n",
      " [32 23]]\n"
     ]
    }
   ],
   "source": [
    "cm = confusion_matrix(ytest, ypred)\n",
    "print(cm)"
   ]
  },
  {
   "cell_type": "code",
   "execution_count": 39,
   "metadata": {},
   "outputs": [
    {
     "name": "stdout",
     "output_type": "stream",
     "text": [
      "              precision    recall  f1-score   support\n",
      "\n",
      "           0       0.74      0.92      0.82        99\n",
      "           1       0.74      0.42      0.53        55\n",
      "\n",
      "    accuracy                           0.74       154\n",
      "   macro avg       0.74      0.67      0.68       154\n",
      "weighted avg       0.74      0.74      0.72       154\n",
      "\n"
     ]
    }
   ],
   "source": [
    "print(classification_report(ytest,ypred))"
   ]
  },
  {
   "cell_type": "code",
   "execution_count": 40,
   "metadata": {},
   "outputs": [],
   "source": [
    "from matplotlib.colors import ListedColormap\n",
    "import numpy as np"
   ]
  },
  {
   "cell_type": "code",
   "execution_count": 41,
   "metadata": {},
   "outputs": [
    {
     "name": "stderr",
     "output_type": "stream",
     "text": [
      "*c* argument looks like a single numeric RGB or RGBA sequence, which should be avoided as value-mapping will have precedence in case its length matches with *x* & *y*.  Please use the *color* keyword-argument or provide a 2D array with a single row if you intend to specify the same RGB or RGBA value for all points.\n",
      "*c* argument looks like a single numeric RGB or RGBA sequence, which should be avoided as value-mapping will have precedence in case its length matches with *x* & *y*.  Please use the *color* keyword-argument or provide a 2D array with a single row if you intend to specify the same RGB or RGBA value for all points.\n"
     ]
    },
    {
     "data": {
      "image/png": "[encoded data removed]",
      "text/plain": [
       "<Figure size 432x288 with 1 Axes>"
      ]
     },
     "metadata": {
      "needs_background": "light"
     },
     "output_type": "display_data"
    }
   ],
   "source": [
    "from utils import plot_area_distribution\n",
    "plot_area_distribution(m,xtrain,ytrain,\"knn\",'BloodPressure','Glucose')"
   ]
  },
  {
   "cell_type": "code",
   "execution_count": 42,
   "metadata": {},
   "outputs": [],
   "source": [
    "from sklearn.metrics import mean_squared_error, mean_absolute_error\n",
    "from sklearn.model_selection import cross_val_score\n",
    "from sklearn.model_selection import GridSearchCV\n"
   ]
  },
  {
   "cell_type": "code",
   "execution_count": 43,
   "metadata": {},
   "outputs": [],
   "source": [
    "X = df[['Glucose','BloodPressure','Age']]\n",
    "y = df['Outcome']\n",
    "xtrain,xtest,ytrain,ytest = train_test_split(X,y,test_size=.2,random_state=1)"
   ]
  },
  {
   "cell_type": "code",
   "execution_count": 44,
   "metadata": {},
   "outputs": [
    {
     "name": "stdout",
     "output_type": "stream",
     "text": [
      "KNeighborsClassifier\n",
      "score: 75.32467532467533\n",
      "mse: 0.21875\n",
      "mse: 0.21875\n"
     ]
    }
   ],
   "source": [
    "\n",
    "print(\"KNeighborsClassifier\")\n",
    "model2 = KNeighborsClassifier()\n",
    "model2.fit(xtrain,ytrain)\n",
    "print(\"score:\",model2.score(xtest,ytest)*100)\n",
    "pred = model2.predict(X)\n",
    "print(\"mse:\",mean_squared_error(y,pred))\n",
    "print(\"mse:\",mean_absolute_error(y,pred))\n"
   ]
  },
  {
   "cell_type": "code",
   "execution_count": 45,
   "metadata": {},
   "outputs": [
    {
     "name": "stdout",
     "output_type": "stream",
     "text": [
      "[0.71875   0.6328125 0.671875  0.765625  0.7890625 0.7578125] average:0.72 std:0.06\n"
     ]
    }
   ],
   "source": [
    "knn_score = cross_val_score(model2,X,y,cv=6)\n",
    "print(knn_score,f\"average:{knn_score.mean():.2f}\",f\"std:{knn_score.std():.2f}\")"
   ]
  },
  {
   "cell_type": "code",
   "execution_count": 46,
   "metadata": {},
   "outputs": [
    {
     "data": {
      "text/plain": [
       "{'n_neighbors': [100, 300, 500],\n",
       " 'algorithm': ['ball_tree', 'kd_tree', 'brute', 'auto'],\n",
       " 'weights': ['uniform'],\n",
       " 'p': [2]}"
      ]
     },
     "execution_count": 46,
     "metadata": {},
     "output_type": "execute_result"
    }
   ],
   "source": [
    "params ={ \n",
    "    'n_neighbors' : list(range(100,501,200)),\n",
    "    'algorithm' :[\"ball_tree\",\"kd_tree\",\"brute\",\"auto\"],\n",
    "    'weights': ['uniform'],\n",
    "    'p':[2]\n",
    "}\n",
    "params"
   ]
  },
  {
   "cell_type": "code",
   "execution_count": 47,
   "metadata": {},
   "outputs": [],
   "source": [
    "grid = GridSearchCV(estimator=KNeighborsClassifier(),param_grid=params,cv=3,n_jobs=-1,verbose=2)\n"
   ]
  },
  {
   "cell_type": "code",
   "execution_count": 48,
   "metadata": {},
   "outputs": [
    {
     "name": "stdout",
     "output_type": "stream",
     "text": [
      "Fitting 3 folds for each of 12 candidates, totalling 36 fits\n"
     ]
    },
    {
     "data": {
      "text/plain": [
       "GridSearchCV(cv=3, estimator=KNeighborsClassifier(), n_jobs=-1,\n",
       "             param_grid={'algorithm': ['ball_tree', 'kd_tree', 'brute', 'auto'],\n",
       "                         'n_neighbors': [100, 300, 500], 'p': [2],\n",
       "                         'weights': ['uniform']},\n",
       "             verbose=2)"
      ]
     },
     "execution_count": 48,
     "metadata": {},
     "output_type": "execute_result"
    }
   ],
   "source": [
    "grid.fit(scaledX,y)"
   ]
  },
  {
   "cell_type": "code",
   "execution_count": 49,
   "metadata": {},
   "outputs": [],
   "source": [
    "kn=pd.DataFrame(grid.cv_results_)"
   ]
  },
  {
   "cell_type": "code",
   "execution_count": 50,
   "metadata": {},
   "outputs": [],
   "source": [
    "kn.sort_values(by='rank_test_score',inplace=True)"
   ]
  },
  {
   "cell_type": "code",
   "execution_count": 51,
   "metadata": {},
   "outputs": [
    {
     "data": {
      "text/html": [
       "<div>\n",
       "<style scoped>\n",
       "    .dataframe tbody tr th:only-of-type {\n",
       "        vertical-align: middle;\n",
       "    }\n",
       "\n",
       "    .dataframe tbody tr th {\n",
       "        vertical-align: top;\n",
       "    }\n",
       "\n",
       "    .dataframe thead th {\n",
       "        text-align: right;\n",
       "    }\n",
       "</style>\n",
       "<table border=\"1\" class=\"dataframe\">\n",
       "  <thead>\n",
       "    <tr style=\"text-align: right;\">\n",
       "      <th></th>\n",
       "      <th>mean_fit_time</th>\n",
       "      <th>std_fit_time</th>\n",
       "      <th>mean_score_time</th>\n",
       "      <th>std_score_time</th>\n",
       "      <th>param_algorithm</th>\n",
       "      <th>param_n_neighbors</th>\n",
       "      <th>param_p</th>\n",
       "      <th>param_weights</th>\n",
       "      <th>params</th>\n",
       "      <th>split0_test_score</th>\n",
       "      <th>split1_test_score</th>\n",
       "      <th>split2_test_score</th>\n",
       "      <th>mean_test_score</th>\n",
       "      <th>std_test_score</th>\n",
       "      <th>rank_test_score</th>\n",
       "    </tr>\n",
       "  </thead>\n",
       "  <tbody>\n",
       "    <tr>\n",
       "      <th>3</th>\n",
       "      <td>0.000000</td>\n",
       "      <td>0.000000</td>\n",
       "      <td>0.026666</td>\n",
       "      <td>0.020998</td>\n",
       "      <td>kd_tree</td>\n",
       "      <td>100</td>\n",
       "      <td>2</td>\n",
       "      <td>uniform</td>\n",
       "      <td>{'algorithm': 'kd_tree', 'n_neighbors': 100, '...</td>\n",
       "      <td>0.738281</td>\n",
       "      <td>0.726562</td>\n",
       "      <td>0.746094</td>\n",
       "      <td>0.736979</td>\n",
       "      <td>0.008027</td>\n",
       "      <td>1</td>\n",
       "    </tr>\n",
       "    <tr>\n",
       "      <th>6</th>\n",
       "      <td>0.000000</td>\n",
       "      <td>0.000000</td>\n",
       "      <td>0.026667</td>\n",
       "      <td>0.026398</td>\n",
       "      <td>brute</td>\n",
       "      <td>100</td>\n",
       "      <td>2</td>\n",
       "      <td>uniform</td>\n",
       "      <td>{'algorithm': 'brute', 'n_neighbors': 100, 'p'...</td>\n",
       "      <td>0.738281</td>\n",
       "      <td>0.726562</td>\n",
       "      <td>0.746094</td>\n",
       "      <td>0.736979</td>\n",
       "      <td>0.008027</td>\n",
       "      <td>1</td>\n",
       "    </tr>\n",
       "    <tr>\n",
       "      <th>9</th>\n",
       "      <td>0.000000</td>\n",
       "      <td>0.000000</td>\n",
       "      <td>0.018667</td>\n",
       "      <td>0.003771</td>\n",
       "      <td>auto</td>\n",
       "      <td>100</td>\n",
       "      <td>2</td>\n",
       "      <td>uniform</td>\n",
       "      <td>{'algorithm': 'auto', 'n_neighbors': 100, 'p':...</td>\n",
       "      <td>0.738281</td>\n",
       "      <td>0.726562</td>\n",
       "      <td>0.746094</td>\n",
       "      <td>0.736979</td>\n",
       "      <td>0.008027</td>\n",
       "      <td>1</td>\n",
       "    </tr>\n",
       "    <tr>\n",
       "      <th>0</th>\n",
       "      <td>0.005334</td>\n",
       "      <td>0.003771</td>\n",
       "      <td>0.010667</td>\n",
       "      <td>0.003771</td>\n",
       "      <td>ball_tree</td>\n",
       "      <td>100</td>\n",
       "      <td>2</td>\n",
       "      <td>uniform</td>\n",
       "      <td>{'algorithm': 'ball_tree', 'n_neighbors': 100,...</td>\n",
       "      <td>0.734375</td>\n",
       "      <td>0.726562</td>\n",
       "      <td>0.746094</td>\n",
       "      <td>0.735677</td>\n",
       "      <td>0.008027</td>\n",
       "      <td>4</td>\n",
       "    </tr>\n",
       "    <tr>\n",
       "      <th>1</th>\n",
       "      <td>0.002667</td>\n",
       "      <td>0.003771</td>\n",
       "      <td>0.024001</td>\n",
       "      <td>0.006533</td>\n",
       "      <td>ball_tree</td>\n",
       "      <td>300</td>\n",
       "      <td>2</td>\n",
       "      <td>uniform</td>\n",
       "      <td>{'algorithm': 'ball_tree', 'n_neighbors': 300,...</td>\n",
       "      <td>0.648438</td>\n",
       "      <td>0.652344</td>\n",
       "      <td>0.652344</td>\n",
       "      <td>0.651042</td>\n",
       "      <td>0.001841</td>\n",
       "      <td>5</td>\n",
       "    </tr>\n",
       "    <tr>\n",
       "      <th>2</th>\n",
       "      <td>0.000000</td>\n",
       "      <td>0.000000</td>\n",
       "      <td>0.026666</td>\n",
       "      <td>0.003771</td>\n",
       "      <td>ball_tree</td>\n",
       "      <td>500</td>\n",
       "      <td>2</td>\n",
       "      <td>uniform</td>\n",
       "      <td>{'algorithm': 'ball_tree', 'n_neighbors': 500,...</td>\n",
       "      <td>0.648438</td>\n",
       "      <td>0.652344</td>\n",
       "      <td>0.652344</td>\n",
       "      <td>0.651042</td>\n",
       "      <td>0.001841</td>\n",
       "      <td>5</td>\n",
       "    </tr>\n",
       "    <tr>\n",
       "      <th>4</th>\n",
       "      <td>0.002666</td>\n",
       "      <td>0.003771</td>\n",
       "      <td>0.021334</td>\n",
       "      <td>0.003771</td>\n",
       "      <td>kd_tree</td>\n",
       "      <td>300</td>\n",
       "      <td>2</td>\n",
       "      <td>uniform</td>\n",
       "      <td>{'algorithm': 'kd_tree', 'n_neighbors': 300, '...</td>\n",
       "      <td>0.648438</td>\n",
       "      <td>0.652344</td>\n",
       "      <td>0.652344</td>\n",
       "      <td>0.651042</td>\n",
       "      <td>0.001841</td>\n",
       "      <td>5</td>\n",
       "    </tr>\n",
       "    <tr>\n",
       "      <th>5</th>\n",
       "      <td>0.005334</td>\n",
       "      <td>0.003771</td>\n",
       "      <td>0.026666</td>\n",
       "      <td>0.003771</td>\n",
       "      <td>kd_tree</td>\n",
       "      <td>500</td>\n",
       "      <td>2</td>\n",
       "      <td>uniform</td>\n",
       "      <td>{'algorithm': 'kd_tree', 'n_neighbors': 500, '...</td>\n",
       "      <td>0.648438</td>\n",
       "      <td>0.652344</td>\n",
       "      <td>0.652344</td>\n",
       "      <td>0.651042</td>\n",
       "      <td>0.001841</td>\n",
       "      <td>5</td>\n",
       "    </tr>\n",
       "    <tr>\n",
       "      <th>7</th>\n",
       "      <td>0.002666</td>\n",
       "      <td>0.003771</td>\n",
       "      <td>0.024000</td>\n",
       "      <td>0.006532</td>\n",
       "      <td>brute</td>\n",
       "      <td>300</td>\n",
       "      <td>2</td>\n",
       "      <td>uniform</td>\n",
       "      <td>{'algorithm': 'brute', 'n_neighbors': 300, 'p'...</td>\n",
       "      <td>0.648438</td>\n",
       "      <td>0.652344</td>\n",
       "      <td>0.652344</td>\n",
       "      <td>0.651042</td>\n",
       "      <td>0.001841</td>\n",
       "      <td>5</td>\n",
       "    </tr>\n",
       "    <tr>\n",
       "      <th>8</th>\n",
       "      <td>0.000000</td>\n",
       "      <td>0.000000</td>\n",
       "      <td>0.029333</td>\n",
       "      <td>0.003771</td>\n",
       "      <td>brute</td>\n",
       "      <td>500</td>\n",
       "      <td>2</td>\n",
       "      <td>uniform</td>\n",
       "      <td>{'algorithm': 'brute', 'n_neighbors': 500, 'p'...</td>\n",
       "      <td>0.648438</td>\n",
       "      <td>0.652344</td>\n",
       "      <td>0.652344</td>\n",
       "      <td>0.651042</td>\n",
       "      <td>0.001841</td>\n",
       "      <td>5</td>\n",
       "    </tr>\n",
       "    <tr>\n",
       "      <th>10</th>\n",
       "      <td>0.000000</td>\n",
       "      <td>0.000000</td>\n",
       "      <td>0.021333</td>\n",
       "      <td>0.003771</td>\n",
       "      <td>auto</td>\n",
       "      <td>300</td>\n",
       "      <td>2</td>\n",
       "      <td>uniform</td>\n",
       "      <td>{'algorithm': 'auto', 'n_neighbors': 300, 'p':...</td>\n",
       "      <td>0.648438</td>\n",
       "      <td>0.652344</td>\n",
       "      <td>0.652344</td>\n",
       "      <td>0.651042</td>\n",
       "      <td>0.001841</td>\n",
       "      <td>5</td>\n",
       "    </tr>\n",
       "    <tr>\n",
       "      <th>11</th>\n",
       "      <td>0.000000</td>\n",
       "      <td>0.000000</td>\n",
       "      <td>0.016041</td>\n",
       "      <td>0.000000</td>\n",
       "      <td>auto</td>\n",
       "      <td>500</td>\n",
       "      <td>2</td>\n",
       "      <td>uniform</td>\n",
       "      <td>{'algorithm': 'auto', 'n_neighbors': 500, 'p':...</td>\n",
       "      <td>0.648438</td>\n",
       "      <td>0.652344</td>\n",
       "      <td>0.652344</td>\n",
       "      <td>0.651042</td>\n",
       "      <td>0.001841</td>\n",
       "      <td>5</td>\n",
       "    </tr>\n",
       "  </tbody>\n",
       "</table>\n",
       "</div>"
      ],
      "text/plain": [
       "    mean_fit_time  std_fit_time  mean_score_time  std_score_time  \\\n",
       "3        0.000000      0.000000         0.026666        0.020998   \n",
       "6        0.000000      0.000000         0.026667        0.026398   \n",
       "9        0.000000      0.000000         0.018667        0.003771   \n",
       "0        0.005334      0.003771         0.010667        0.003771   \n",
       "1        0.002667      0.003771         0.024001        0.006533   \n",
       "2        0.000000      0.000000         0.026666        0.003771   \n",
       "4        0.002666      0.003771         0.021334        0.003771   \n",
       "5        0.005334      0.003771         0.026666        0.003771   \n",
       "7        0.002666      0.003771         0.024000        0.006532   \n",
       "8        0.000000      0.000000         0.029333        0.003771   \n",
       "10       0.000000      0.000000         0.021333        0.003771   \n",
       "11       0.000000      0.000000         0.016041        0.000000   \n",
       "\n",
       "   param_algorithm param_n_neighbors param_p param_weights  \\\n",
       "3          kd_tree               100       2       uniform   \n",
       "6            brute               100       2       uniform   \n",
       "9             auto               100       2       uniform   \n",
       "0        ball_tree               100       2       uniform   \n",
       "1        ball_tree               300       2       uniform   \n",
       "2        ball_tree               500       2       uniform   \n",
       "4          kd_tree               300       2       uniform   \n",
       "5          kd_tree               500       2       uniform   \n",
       "7            brute               300       2       uniform   \n",
       "8            brute               500       2       uniform   \n",
       "10            auto               300       2       uniform   \n",
       "11            auto               500       2       uniform   \n",
       "\n",
       "                                               params  split0_test_score  \\\n",
       "3   {'algorithm': 'kd_tree', 'n_neighbors': 100, '...           0.738281   \n",
       "6   {'algorithm': 'brute', 'n_neighbors': 100, 'p'...           0.738281   \n",
       "9   {'algorithm': 'auto', 'n_neighbors': 100, 'p':...           0.738281   \n",
       "0   {'algorithm': 'ball_tree', 'n_neighbors': 100,...           0.734375   \n",
       "1   {'algorithm': 'ball_tree', 'n_neighbors': 300,...           0.648438   \n",
       "2   {'algorithm': 'ball_tree', 'n_neighbors': 500,...           0.648438   \n",
       "4   {'algorithm': 'kd_tree', 'n_neighbors': 300, '...           0.648438   \n",
       "5   {'algorithm': 'kd_tree', 'n_neighbors': 500, '...           0.648438   \n",
       "7   {'algorithm': 'brute', 'n_neighbors': 300, 'p'...           0.648438   \n",
       "8   {'algorithm': 'brute', 'n_neighbors': 500, 'p'...           0.648438   \n",
       "10  {'algorithm': 'auto', 'n_neighbors': 300, 'p':...           0.648438   \n",
       "11  {'algorithm': 'auto', 'n_neighbors': 500, 'p':...           0.648438   \n",
       "\n",
       "    split1_test_score  split2_test_score  mean_test_score  std_test_score  \\\n",
       "3            0.726562           0.746094         0.736979        0.008027   \n",
       "6            0.726562           0.746094         0.736979        0.008027   \n",
       "9            0.726562           0.746094         0.736979        0.008027   \n",
       "0            0.726562           0.746094         0.735677        0.008027   \n",
       "1            0.652344           0.652344         0.651042        0.001841   \n",
       "2            0.652344           0.652344         0.651042        0.001841   \n",
       "4            0.652344           0.652344         0.651042        0.001841   \n",
       "5            0.652344           0.652344         0.651042        0.001841   \n",
       "7            0.652344           0.652344         0.651042        0.001841   \n",
       "8            0.652344           0.652344         0.651042        0.001841   \n",
       "10           0.652344           0.652344         0.651042        0.001841   \n",
       "11           0.652344           0.652344         0.651042        0.001841   \n",
       "\n",
       "    rank_test_score  \n",
       "3                 1  \n",
       "6                 1  \n",
       "9                 1  \n",
       "0                 4  \n",
       "1                 5  \n",
       "2                 5  \n",
       "4                 5  \n",
       "5                 5  \n",
       "7                 5  \n",
       "8                 5  \n",
       "10                5  \n",
       "11                5  "
      ]
     },
     "execution_count": 51,
     "metadata": {},
     "output_type": "execute_result"
    }
   ],
   "source": [
    "kn"
   ]
  },
  {
   "cell_type": "code",
   "execution_count": 52,
   "metadata": {},
   "outputs": [
    {
     "data": {
      "text/plain": [
       "KNeighborsClassifier(algorithm='kd_tree', n_neighbors=100)"
      ]
     },
     "execution_count": 52,
     "metadata": {},
     "output_type": "execute_result"
    }
   ],
   "source": [
    "grid.best_estimator_"
   ]
  },
  {
   "cell_type": "code",
   "execution_count": 53,
   "metadata": {},
   "outputs": [],
   "source": [
    "from joblib import dump,load"
   ]
  },
  {
   "cell_type": "code",
   "execution_count": 54,
   "metadata": {},
   "outputs": [
    {
     "data": {
      "text/plain": [
       "['diabetes_model.pkl']"
      ]
     },
     "execution_count": 54,
     "metadata": {},
     "output_type": "execute_result"
    }
   ],
   "source": [
    "dump(grid.best_estimator_,\"diabetes_model.pkl\")"
   ]
  },
  {
   "cell_type": "code",
   "execution_count": 55,
   "metadata": {},
   "outputs": [
    {
     "name": "stdout",
     "output_type": "stream",
     "text": [
      "\u001b[1;31mInit signature:\u001b[0m\n",
      "\u001b[0mKNeighborsClassifier\u001b[0m\u001b[1;33m(\u001b[0m\u001b[1;33m\n",
      "\u001b[0m    \u001b[0mn_neighbors\u001b[0m\u001b[1;33m=\u001b[0m\u001b[1;36m5\u001b[0m\u001b[1;33m,\u001b[0m\u001b[1;33m\n",
      "\u001b[0m    \u001b[1;33m*\u001b[0m\u001b[1;33m,\u001b[0m\u001b[1;33m\n",
      "\u001b[0m    \u001b[0mweights\u001b[0m\u001b[1;33m=\u001b[0m\u001b[1;34m'uniform'\u001b[0m\u001b[1;33m,\u001b[0m\u001b[1;33m\n",
      "\u001b[0m    \u001b[0malgorithm\u001b[0m\u001b[1;33m=\u001b[0m\u001b[1;34m'auto'\u001b[0m\u001b[1;33m,\u001b[0m\u001b[1;33m\n",
      "\u001b[0m    \u001b[0mleaf_size\u001b[0m\u001b[1;33m=\u001b[0m\u001b[1;36m30\u001b[0m\u001b[1;33m,\u001b[0m\u001b[1;33m\n",
      "\u001b[0m    \u001b[0mp\u001b[0m\u001b[1;33m=\u001b[0m\u001b[1;36m2\u001b[0m\u001b[1;33m,\u001b[0m\u001b[1;33m\n",
      "\u001b[0m    \u001b[0mmetric\u001b[0m\u001b[1;33m=\u001b[0m\u001b[1;34m'minkowski'\u001b[0m\u001b[1;33m,\u001b[0m\u001b[1;33m\n",
      "\u001b[0m    \u001b[0mmetric_params\u001b[0m\u001b[1;33m=\u001b[0m\u001b[1;32mNone\u001b[0m\u001b[1;33m,\u001b[0m\u001b[1;33m\n",
      "\u001b[0m    \u001b[0mn_jobs\u001b[0m\u001b[1;33m=\u001b[0m\u001b[1;32mNone\u001b[0m\u001b[1;33m,\u001b[0m\u001b[1;33m\n",
      "\u001b[0m\u001b[1;33m)\u001b[0m\u001b[1;33m\u001b[0m\u001b[1;33m\u001b[0m\u001b[0m\n",
      "\u001b[1;31mDocstring:\u001b[0m     \n",
      "Classifier implementing the k-nearest neighbors vote.\n",
      "\n",
      "Read more in the :ref:`User Guide <classification>`.\n",
      "\n",
      "Parameters\n",
      "----------\n",
      "n_neighbors : int, default=5\n",
      "    Number of neighbors to use by default for :meth:`kneighbors` queries.\n",
      "\n",
      "weights : {'uniform', 'distance'} or callable, default='uniform'\n",
      "    Weight function used in prediction.  Possible values:\n",
      "\n",
      "    - 'uniform' : uniform weights.  All points in each neighborhood\n",
      "      are weighted equally.\n",
      "    - 'distance' : weight points by the inverse of their distance.\n",
      "      in this case, closer neighbors of a query point will have a\n",
      "      greater influence than neighbors which are further away.\n",
      "    - [callable] : a user-defined function which accepts an\n",
      "      array of distances, and returns an array of the same shape\n",
      "      containing the weights.\n",
      "\n",
      "algorithm : {'auto', 'ball_tree', 'kd_tree', 'brute'}, default='auto'\n",
      "    Algorithm used to compute the nearest neighbors:\n",
      "\n",
      "    - 'ball_tree' will use :class:`BallTree`\n",
      "    - 'kd_tree' will use :class:`KDTree`\n",
      "    - 'brute' will use a brute-force search.\n",
      "    - 'auto' will attempt to decide the most appropriate algorithm\n",
      "      based on the values passed to :meth:`fit` method.\n",
      "\n",
      "    Note: fitting on sparse input will override the setting of\n",
      "    this parameter, using brute force.\n",
      "\n",
      "leaf_size : int, default=30\n",
      "    Leaf size passed to BallTree or KDTree.  This can affect the\n",
      "    speed of the construction and query, as well as the memory\n",
      "    required to store the tree.  The optimal value depends on the\n",
      "    nature of the problem.\n",
      "\n",
      "p : int, default=2\n",
      "    Power parameter for the Minkowski metric. When p = 1, this is\n",
      "    equivalent to using manhattan_distance (l1), and euclidean_distance\n",
      "    (l2) for p = 2. For arbitrary p, minkowski_distance (l_p) is used.\n",
      "\n",
      "metric : str or callable, default='minkowski'\n",
      "    The distance metric to use for the tree.  The default metric is\n",
      "    minkowski, and with p=2 is equivalent to the standard Euclidean\n",
      "    metric. For a list of available metrics, see the documentation of\n",
      "    :class:`~sklearn.metrics.DistanceMetric`.\n",
      "    If metric is \"precomputed\", X is assumed to be a distance matrix and\n",
      "    must be square during fit. X may be a :term:`sparse graph`,\n",
      "    in which case only \"nonzero\" elements may be considered neighbors.\n",
      "\n",
      "metric_params : dict, default=None\n",
      "    Additional keyword arguments for the metric function.\n",
      "\n",
      "n_jobs : int, default=None\n",
      "    The number of parallel jobs to run for neighbors search.\n",
      "    ``None`` means 1 unless in a :obj:`joblib.parallel_backend` context.\n",
      "    ``-1`` means using all processors. See :term:`Glossary <n_jobs>`\n",
      "    for more details.\n",
      "    Doesn't affect :meth:`fit` method.\n",
      "\n",
      "Attributes\n",
      "----------\n",
      "classes_ : array of shape (n_classes,)\n",
      "    Class labels known to the classifier\n",
      "\n",
      "effective_metric_ : str or callble\n",
      "    The distance metric used. It will be same as the `metric` parameter\n",
      "    or a synonym of it, e.g. 'euclidean' if the `metric` parameter set to\n",
      "    'minkowski' and `p` parameter set to 2.\n",
      "\n",
      "effective_metric_params_ : dict\n",
      "    Additional keyword arguments for the metric function. For most metrics\n",
      "    will be same with `metric_params` parameter, but may also contain the\n",
      "    `p` parameter value if the `effective_metric_` attribute is set to\n",
      "    'minkowski'.\n",
      "\n",
      "n_features_in_ : int\n",
      "    Number of features seen during :term:`fit`.\n",
      "\n",
      "    .. versionadded:: 0.24\n",
      "\n",
      "feature_names_in_ : ndarray of shape (`n_features_in_`,)\n",
      "    Names of features seen during :term:`fit`. Defined only when `X`\n",
      "    has feature names that are all strings.\n",
      "\n",
      "    .. versionadded:: 1.0\n",
      "\n",
      "n_samples_fit_ : int\n",
      "    Number of samples in the fitted data.\n",
      "\n",
      "outputs_2d_ : bool\n",
      "    False when `y`'s shape is (n_samples, ) or (n_samples, 1) during fit\n",
      "    otherwise True.\n",
      "\n",
      "See Also\n",
      "--------\n",
      "RadiusNeighborsClassifier: Classifier based on neighbors within a fixed radius.\n",
      "KNeighborsRegressor: Regression based on k-nearest neighbors.\n",
      "RadiusNeighborsRegressor: Regression based on neighbors within a fixed radius.\n",
      "NearestNeighbors: Unsupervised learner for implementing neighbor searches.\n",
      "\n",
      "Notes\n",
      "-----\n",
      "See :ref:`Nearest Neighbors <neighbors>` in the online documentation\n",
      "for a discussion of the choice of ``algorithm`` and ``leaf_size``.\n",
      "\n",
      ".. warning::\n",
      "\n",
      "   Regarding the Nearest Neighbors algorithms, if it is found that two\n",
      "   neighbors, neighbor `k+1` and `k`, have identical distances\n",
      "   but different labels, the results will depend on the ordering of the\n",
      "   training data.\n",
      "\n",
      "https://en.wikipedia.org/wiki/K-nearest_neighbor_algorithm\n",
      "\n",
      "Examples\n",
      "--------\n",
      ">>> X = [[0], [1], [2], [3]]\n",
      ">>> y = [0, 0, 1, 1]\n",
      ">>> from sklearn.neighbors import KNeighborsClassifier\n",
      ">>> neigh = KNeighborsClassifier(n_neighbors=3)\n",
      ">>> neigh.fit(X, y)\n",
      "KNeighborsClassifier(...)\n",
      ">>> print(neigh.predict([[1.1]]))\n",
      "[0]\n",
      ">>> print(neigh.predict_proba([[0.9]]))\n",
      "[[0.666... 0.333...]]\n",
      "\u001b[1;31mFile:\u001b[0m           c:\\users\\aishw\\miniconda3\\envs\\digi\\lib\\site-packages\\sklearn\\neighbors\\_classification.py\n",
      "\u001b[1;31mType:\u001b[0m           ABCMeta\n",
      "\u001b[1;31mSubclasses:\u001b[0m     \n"
     ]
    }
   ],
   "source": [
    "KNeighborsClassifier?"
   ]
  },
  {
   "cell_type": "code",
   "execution_count": 56,
   "metadata": {},
   "outputs": [],
   "source": [
    "from joblib import dump"
   ]
  },
  {
   "cell_type": "code",
   "execution_count": 57,
   "metadata": {},
   "outputs": [
    {
     "data": {
      "text/plain": [
       "['clf_ap.pkl']"
      ]
     },
     "execution_count": 57,
     "metadata": {},
     "output_type": "execute_result"
    }
   ],
   "source": [
    "model_dict={\n",
    "    'title':'classification model for ad click prediction',\n",
    "    'classifier':m,\n",
    "    'scaler':scaler,\n",
    "}\n",
    "\n",
    "dump(model_dict, \"clf_ap.pkl\")"
   ]
  },
  {
   "cell_type": "code",
   "execution_count": null,
   "metadata": {},
   "outputs": [],
   "source": []
  }
 ],
 "metadata": {
  "interpreter": {
   "hash": "8b22f770f2ab500b3c21b05978925f2751bd2b771b224a6edc9c6364d5ce1268"
  },
  "kernelspec": {
   "display_name": "Python 3.9.7 ('digi')",
   "language": "python",
   "name": "python3"
  },
  "language_info": {
   "codemirror_mode": {
    "name": "ipython",
    "version": 3
   },
   "file_extension": ".py",
   "mimetype": "text/x-python",
   "name": "python",
   "nbconvert_exporter": "python",
   "pygments_lexer": "ipython3",
   "version": "3.9.7"
  },
  "orig_nbformat": 4
 },
 "nbformat": 4,
 "nbformat_minor": 2
}
