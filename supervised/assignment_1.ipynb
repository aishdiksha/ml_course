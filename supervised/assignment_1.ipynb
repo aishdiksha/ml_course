{
 "cells": [
  {
   "cell_type": "code",
   "execution_count": 1,
   "metadata": {},
   "outputs": [],
   "source": [
    "import pandas as pd\n",
    "import matplotlib.pyplot as plt\n",
    "import numpy as np\n",
    "\n",
    "from sklearn.tree import DecisionTreeRegressor\n",
    "from sklearn.linear_model import LinearRegression\n",
    "from sklearn.ensemble import RandomForestRegressor\n",
    "\n",
    "from sklearn.model_selection import train_test_split\n",
    "from sklearn.metrics import mean_squared_error, mean_absolute_error\n",
    "from sklearn.model_selection import cross_val_score\n",
    "from sklearn.model_selection import GridSearchCV\n",
    "\n",
    "from joblib import dump , load\n",
    "import plotly.express as px"
   ]
  },
  {
   "cell_type": "code",
   "execution_count": 2,
   "metadata": {},
   "outputs": [],
   "source": [
    "pd.set_option('display.max_columns', None)"
   ]
  },
  {
   "cell_type": "code",
   "execution_count": 3,
   "metadata": {},
   "outputs": [
    {
     "name": "stdout",
     "output_type": "stream",
     "text": [
      "<class 'pandas.core.frame.DataFrame'>\n",
      "RangeIndex: 814 entries, 0 to 813\n",
      "Data columns (total 6 columns):\n",
      " #   Column      Non-Null Count  Dtype  \n",
      "---  ------      --------------  -----  \n",
      " 0   City        814 non-null    object \n",
      " 1   Type        814 non-null    object \n",
      " 2   Beds        814 non-null    int64  \n",
      " 3   Baths       814 non-null    int64  \n",
      " 4   SquareFeet  814 non-null    int64  \n",
      " 5   Price       814 non-null    float64\n",
      "dtypes: float64(1), int64(3), object(2)\n",
      "memory usage: 38.3+ KB\n"
     ]
    },
    {
     "data": {
      "text/html": [
       "<div>\n",
       "<style scoped>\n",
       "    .dataframe tbody tr th:only-of-type {\n",
       "        vertical-align: middle;\n",
       "    }\n",
       "\n",
       "    .dataframe tbody tr th {\n",
       "        vertical-align: top;\n",
       "    }\n",
       "\n",
       "    .dataframe thead th {\n",
       "        text-align: right;\n",
       "    }\n",
       "</style>\n",
       "<table border=\"1\" class=\"dataframe\">\n",
       "  <thead>\n",
       "    <tr style=\"text-align: right;\">\n",
       "      <th></th>\n",
       "      <th>City</th>\n",
       "      <th>Type</th>\n",
       "      <th>Beds</th>\n",
       "      <th>Baths</th>\n",
       "      <th>SquareFeet</th>\n",
       "      <th>Price</th>\n",
       "    </tr>\n",
       "  </thead>\n",
       "  <tbody>\n",
       "    <tr>\n",
       "      <th>0</th>\n",
       "      <td>SACRAMENTO</td>\n",
       "      <td>Residential</td>\n",
       "      <td>2</td>\n",
       "      <td>1</td>\n",
       "      <td>836</td>\n",
       "      <td>138159.85</td>\n",
       "    </tr>\n",
       "    <tr>\n",
       "      <th>1</th>\n",
       "      <td>SACRAMENTO</td>\n",
       "      <td>Residential</td>\n",
       "      <td>3</td>\n",
       "      <td>1</td>\n",
       "      <td>1167</td>\n",
       "      <td>167541.46</td>\n",
       "    </tr>\n",
       "    <tr>\n",
       "      <th>2</th>\n",
       "      <td>SACRAMENTO</td>\n",
       "      <td>Residential</td>\n",
       "      <td>2</td>\n",
       "      <td>1</td>\n",
       "      <td>796</td>\n",
       "      <td>119095.12</td>\n",
       "    </tr>\n",
       "    <tr>\n",
       "      <th>3</th>\n",
       "      <td>SACRAMENTO</td>\n",
       "      <td>Residential</td>\n",
       "      <td>2</td>\n",
       "      <td>1</td>\n",
       "      <td>852</td>\n",
       "      <td>130904.95</td>\n",
       "    </tr>\n",
       "    <tr>\n",
       "      <th>4</th>\n",
       "      <td>SACRAMENTO</td>\n",
       "      <td>Residential</td>\n",
       "      <td>2</td>\n",
       "      <td>1</td>\n",
       "      <td>797</td>\n",
       "      <td>120266.19</td>\n",
       "    </tr>\n",
       "  </tbody>\n",
       "</table>\n",
       "</div>"
      ],
      "text/plain": [
       "         City         Type  Beds  Baths  SquareFeet      Price\n",
       "0  SACRAMENTO  Residential     2      1         836  138159.85\n",
       "1  SACRAMENTO  Residential     3      1        1167  167541.46\n",
       "2  SACRAMENTO  Residential     2      1         796  119095.12\n",
       "3  SACRAMENTO  Residential     2      1         852  130904.95\n",
       "4  SACRAMENTO  Residential     2      1         797  120266.19"
      ]
     },
     "execution_count": 3,
     "metadata": {},
     "output_type": "execute_result"
    }
   ],
   "source": [
    "df=pd.read_csv(\"https://raw.githubusercontent.com/digipodium/Datasets/main/house_pricing.csv\")\n",
    "df.info()\n",
    "df.head()"
   ]
  },
  {
   "cell_type": "code",
   "execution_count": 4,
   "metadata": {},
   "outputs": [
    {
     "name": "stdout",
     "output_type": "stream",
     "text": [
      "['City', 'Type', 'Beds', 'Baths', 'SquareFeet', 'Price']\n"
     ]
    }
   ],
   "source": [
    "print(df.columns.tolist())\n"
   ]
  },
  {
   "cell_type": "code",
   "execution_count": 5,
   "metadata": {},
   "outputs": [],
   "source": [
    "X = df[['Beds','Baths','SquareFeet']]\n",
    "y = df['Price']\n",
    "xtrain,xtest,ytrain,ytest = train_test_split(X,y,test_size=.2,random_state=1)"
   ]
  },
  {
   "cell_type": "code",
   "execution_count": 6,
   "metadata": {},
   "outputs": [
    {
     "data": {
      "text/html": [
       "<div>\n",
       "<style scoped>\n",
       "    .dataframe tbody tr th:only-of-type {\n",
       "        vertical-align: middle;\n",
       "    }\n",
       "\n",
       "    .dataframe tbody tr th {\n",
       "        vertical-align: top;\n",
       "    }\n",
       "\n",
       "    .dataframe thead th {\n",
       "        text-align: right;\n",
       "    }\n",
       "</style>\n",
       "<table border=\"1\" class=\"dataframe\">\n",
       "  <thead>\n",
       "    <tr style=\"text-align: right;\">\n",
       "      <th></th>\n",
       "      <th>Beds</th>\n",
       "      <th>Baths</th>\n",
       "      <th>SquareFeet</th>\n",
       "      <th>Price</th>\n",
       "    </tr>\n",
       "  </thead>\n",
       "  <tbody>\n",
       "    <tr>\n",
       "      <th>0</th>\n",
       "      <td>2</td>\n",
       "      <td>1</td>\n",
       "      <td>836</td>\n",
       "      <td>138159.85</td>\n",
       "    </tr>\n",
       "    <tr>\n",
       "      <th>1</th>\n",
       "      <td>3</td>\n",
       "      <td>1</td>\n",
       "      <td>1167</td>\n",
       "      <td>167541.46</td>\n",
       "    </tr>\n",
       "    <tr>\n",
       "      <th>2</th>\n",
       "      <td>2</td>\n",
       "      <td>1</td>\n",
       "      <td>796</td>\n",
       "      <td>119095.12</td>\n",
       "    </tr>\n",
       "    <tr>\n",
       "      <th>3</th>\n",
       "      <td>2</td>\n",
       "      <td>1</td>\n",
       "      <td>852</td>\n",
       "      <td>130904.95</td>\n",
       "    </tr>\n",
       "    <tr>\n",
       "      <th>4</th>\n",
       "      <td>2</td>\n",
       "      <td>1</td>\n",
       "      <td>797</td>\n",
       "      <td>120266.19</td>\n",
       "    </tr>\n",
       "  </tbody>\n",
       "</table>\n",
       "</div>"
      ],
      "text/plain": [
       "   Beds  Baths  SquareFeet      Price\n",
       "0     2      1         836  138159.85\n",
       "1     3      1        1167  167541.46\n",
       "2     2      1         796  119095.12\n",
       "3     2      1         852  130904.95\n",
       "4     2      1         797  120266.19"
      ]
     },
     "execution_count": 6,
     "metadata": {},
     "output_type": "execute_result"
    }
   ],
   "source": [
    "df.drop(['City', 'Type'], axis=1, inplace=True)\n",
    "df.head()\n"
   ]
  },
  {
   "cell_type": "code",
   "execution_count": 7,
   "metadata": {},
   "outputs": [
    {
     "data": {
      "text/plain": [
       "<AxesSubplot:title={'center':'Correlation with Price'}>"
      ]
     },
     "execution_count": 7,
     "metadata": {},
     "output_type": "execute_result"
    },
    {
     "data": {
      "image/png": "[encoded data removed]",
      "text/plain": [
       "<Figure size 720x360 with 1 Axes>"
      ]
     },
     "metadata": {
      "needs_background": "light"
     },
     "output_type": "display_data"
    }
   ],
   "source": [
    "df.corrwith(df['Price']).plot.bar(figsize=(10,5), title='Correlation with Price')\n"
   ]
  },
  {
   "cell_type": "code",
   "execution_count": 8,
   "metadata": {},
   "outputs": [],
   "source": [
    "X = df[['Baths','SquareFeet','Beds']]\n",
    "y  = df['Price']  "
   ]
  },
  {
   "cell_type": "code",
   "execution_count": 9,
   "metadata": {},
   "outputs": [
    {
     "name": "stderr",
     "output_type": "stream",
     "text": [
      "C:\\Users\\aishw\\miniconda3\\envs\\digi\\lib\\site-packages\\xgboost\\compat.py:36: FutureWarning: pandas.Int64Index is deprecated and will be removed from pandas in a future version. Use pandas.Index with the appropriate dtype instead.\n",
      "  from pandas import MultiIndex, Int64Index\n"
     ]
    }
   ],
   "source": [
    "import xgboost as xgb\n"
   ]
  },
  {
   "cell_type": "code",
   "execution_count": 10,
   "metadata": {},
   "outputs": [
    {
     "name": "stderr",
     "output_type": "stream",
     "text": [
      "C:\\Users\\aishw\\miniconda3\\envs\\digi\\lib\\site-packages\\xgboost\\data.py:262: FutureWarning: pandas.Int64Index is deprecated and will be removed from pandas in a future version. Use pandas.Index with the appropriate dtype instead.\n",
      "  elif isinstance(data.columns, (pd.Int64Index, pd.RangeIndex)):\n"
     ]
    }
   ],
   "source": [
    "data_matrix = xgb.DMatrix(X,y)\n"
   ]
  },
  {
   "cell_type": "code",
   "execution_count": 11,
   "metadata": {},
   "outputs": [
    {
     "data": {
      "text/html": [
       "<div>\n",
       "<style scoped>\n",
       "    .dataframe tbody tr th:only-of-type {\n",
       "        vertical-align: middle;\n",
       "    }\n",
       "\n",
       "    .dataframe tbody tr th {\n",
       "        vertical-align: top;\n",
       "    }\n",
       "\n",
       "    .dataframe thead th {\n",
       "        text-align: right;\n",
       "    }\n",
       "</style>\n",
       "<table border=\"1\" class=\"dataframe\">\n",
       "  <thead>\n",
       "    <tr style=\"text-align: right;\">\n",
       "      <th></th>\n",
       "      <th>train-rmse-mean</th>\n",
       "      <th>train-rmse-std</th>\n",
       "      <th>test-rmse-mean</th>\n",
       "      <th>test-rmse-std</th>\n",
       "    </tr>\n",
       "  </thead>\n",
       "  <tbody>\n",
       "    <tr>\n",
       "      <th>0</th>\n",
       "      <td>256239.557292</td>\n",
       "      <td>2333.819371</td>\n",
       "      <td>256206.869792</td>\n",
       "      <td>4700.038664</td>\n",
       "    </tr>\n",
       "    <tr>\n",
       "      <th>1</th>\n",
       "      <td>253795.562500</td>\n",
       "      <td>2308.400033</td>\n",
       "      <td>253766.322917</td>\n",
       "      <td>4629.855031</td>\n",
       "    </tr>\n",
       "    <tr>\n",
       "      <th>2</th>\n",
       "      <td>251376.619792</td>\n",
       "      <td>2283.126506</td>\n",
       "      <td>251351.088542</td>\n",
       "      <td>4560.587006</td>\n",
       "    </tr>\n",
       "    <tr>\n",
       "      <th>3</th>\n",
       "      <td>248982.203125</td>\n",
       "      <td>2258.205376</td>\n",
       "      <td>248960.416667</td>\n",
       "      <td>4491.814223</td>\n",
       "    </tr>\n",
       "    <tr>\n",
       "      <th>4</th>\n",
       "      <td>246612.140625</td>\n",
       "      <td>2233.561076</td>\n",
       "      <td>246593.984375</td>\n",
       "      <td>4423.541007</td>\n",
       "    </tr>\n",
       "    <tr>\n",
       "      <th>...</th>\n",
       "      <td>...</td>\n",
       "      <td>...</td>\n",
       "      <td>...</td>\n",
       "      <td>...</td>\n",
       "    </tr>\n",
       "    <tr>\n",
       "      <th>377</th>\n",
       "      <td>32200.534505</td>\n",
       "      <td>1530.314797</td>\n",
       "      <td>50078.691406</td>\n",
       "      <td>6785.920692</td>\n",
       "    </tr>\n",
       "    <tr>\n",
       "      <th>378</th>\n",
       "      <td>32162.222657</td>\n",
       "      <td>1530.840863</td>\n",
       "      <td>50080.454427</td>\n",
       "      <td>6801.687894</td>\n",
       "    </tr>\n",
       "    <tr>\n",
       "      <th>379</th>\n",
       "      <td>32127.600261</td>\n",
       "      <td>1527.447339</td>\n",
       "      <td>50079.397136</td>\n",
       "      <td>6813.388777</td>\n",
       "    </tr>\n",
       "    <tr>\n",
       "      <th>380</th>\n",
       "      <td>32093.072917</td>\n",
       "      <td>1524.277313</td>\n",
       "      <td>50079.955729</td>\n",
       "      <td>6831.337502</td>\n",
       "    </tr>\n",
       "    <tr>\n",
       "      <th>381</th>\n",
       "      <td>32057.578776</td>\n",
       "      <td>1520.135261</td>\n",
       "      <td>50078.273438</td>\n",
       "      <td>6834.539707</td>\n",
       "    </tr>\n",
       "  </tbody>\n",
       "</table>\n",
       "<p>382 rows × 4 columns</p>\n",
       "</div>"
      ],
      "text/plain": [
       "     train-rmse-mean  train-rmse-std  test-rmse-mean  test-rmse-std\n",
       "0      256239.557292     2333.819371   256206.869792    4700.038664\n",
       "1      253795.562500     2308.400033   253766.322917    4629.855031\n",
       "2      251376.619792     2283.126506   251351.088542    4560.587006\n",
       "3      248982.203125     2258.205376   248960.416667    4491.814223\n",
       "4      246612.140625     2233.561076   246593.984375    4423.541007\n",
       "..               ...             ...             ...            ...\n",
       "377     32200.534505     1530.314797    50078.691406    6785.920692\n",
       "378     32162.222657     1530.840863    50080.454427    6801.687894\n",
       "379     32127.600261     1527.447339    50079.397136    6813.388777\n",
       "380     32093.072917     1524.277313    50079.955729    6831.337502\n",
       "381     32057.578776     1520.135261    50078.273438    6834.539707\n",
       "\n",
       "[382 rows x 4 columns]"
      ]
     },
     "execution_count": 11,
     "metadata": {},
     "output_type": "execute_result"
    }
   ],
   "source": [
    "params = {\n",
    "    'learning_rate' : .01,\n",
    "    'max_depth' : 5,\n",
    "    'alpha' : 10,\n",
    "}\n",
    "\n",
    "results = xgb.cv(\n",
    "    params,\n",
    "    data_matrix,\n",
    "    num_boost_round=500,\n",
    "    early_stopping_rounds=5,\n",
    "    metrics='rmse',\n",
    ")\n",
    "results"
   ]
  },
  {
   "cell_type": "code",
   "execution_count": 12,
   "metadata": {},
   "outputs": [
    {
     "data": {
      "text/plain": [
       "<AxesSubplot:>"
      ]
     },
     "execution_count": 12,
     "metadata": {},
     "output_type": "execute_result"
    },
    {
     "data": {
      "image/png": "[encoded data removed]",
      "text/plain": [
       "<Figure size 432x288 with 1 Axes>"
      ]
     },
     "metadata": {
      "needs_background": "light"
     },
     "output_type": "display_data"
    }
   ],
   "source": [
    "params = {\n",
    "    'learning_rate' : .01,\n",
    "    'max_depth' : 5,\n",
    "    'alpha' : 10,\n",
    "}\n",
    "\n",
    "results = xgb.cv(\n",
    "    params,\n",
    "    data_matrix,\n",
    "    num_boost_round=500,\n",
    "    early_stopping_rounds=5,\n",
    "    metrics='rmse',\n",
    ")\n",
    "results['test-rmse-mean'].plot()\n"
   ]
  },
  {
   "cell_type": "code",
   "execution_count": 13,
   "metadata": {},
   "outputs": [
    {
     "name": "stdout",
     "output_type": "stream",
     "text": [
      "Current best params: (5, 0.01, 0)\n",
      "Current best params: (5, 0.01, 5)\n",
      "Current best params: (5, 0.01, 5)\n",
      "Current best params: (5, 0.01, 5)\n",
      "Current best params: (5, 0.01, 20)\n",
      "Current best params: (5, 0.01, 20)\n",
      "Current best params: (5, 0.01, 20)\n",
      "Current best params: (5, 0.01, 20)\n",
      "Current best params: (5, 0.01, 40)\n",
      "Current best params: (5, 0.01, 40)\n",
      "Current best params: (5, 0.01, 40)\n",
      "Current best params: (5, 0.01, 40)\n",
      "Current best params: (5, 0.01, 40)\n",
      "Current best params: (5, 0.01, 40)\n",
      "Current best params: (5, 0.01, 40)\n",
      "Current best params: (5, 0.01, 40)\n",
      "Current best params: (5, 0.01, 40)\n",
      "Current best params: (5, 0.01, 40)\n",
      "Current best params: (5, 0.01, 40)\n",
      "Current best params: (5, 0.01, 40)\n",
      "Current best params: (5, 0.5, 0)\n",
      "Current best params: (5, 0.5, 5)\n",
      "Current best params: (5, 0.5, 10)\n",
      "Current best params: (5, 0.5, 15)\n",
      "Current best params: (5, 0.5, 20)\n",
      "Current best params: (5, 0.5, 25)\n",
      "Current best params: (5, 0.5, 30)\n",
      "Current best params: (5, 0.5, 35)\n",
      "Current best params: (5, 0.5, 40)\n",
      "Current best params: (5, 0.5, 45)\n",
      "Current best params: (5, 0.5, 45)\n",
      "Current best params: (5, 0.5, 45)\n",
      "Current best params: (5, 0.5, 45)\n",
      "Current best params: (5, 0.5, 45)\n",
      "Current best params: (5, 0.5, 45)\n",
      "Current best params: (5, 0.5, 45)\n",
      "Current best params: (5, 0.5, 45)\n",
      "Current best params: (5, 0.5, 45)\n",
      "Current best params: (5, 0.5, 45)\n",
      "Current best params: (5, 0.5, 45)\n",
      "Current best params: (5, 0.5, 45)\n",
      "Current best params: (5, 0.5, 45)\n",
      "Current best params: (5, 0.5, 45)\n",
      "Current best params: (5, 0.5, 45)\n",
      "Current best params: (5, 0.5, 45)\n",
      "Current best params: (5, 0.5, 45)\n",
      "Current best params: (5, 0.5, 45)\n",
      "Current best params: (5, 0.5, 45)\n",
      "Current best params: (5, 0.5, 45)\n",
      "Current best params: (5, 0.5, 45)\n",
      "Current best params: (5, 0.5, 45)\n",
      "Current best params: (5, 0.5, 45)\n",
      "Current best params: (5, 0.5, 45)\n",
      "Current best params: (5, 0.5, 45)\n",
      "Current best params: (5, 0.5, 45)\n",
      "Current best params: (5, 0.5, 45)\n",
      "Current best params: (5, 0.5, 45)\n",
      "Current best params: (5, 0.5, 45)\n",
      "Current best params: (5, 0.5, 45)\n",
      "Current best params: (5, 0.5, 45)\n",
      "Current best params: (5, 0.5, 45)\n",
      "Current best params: (5, 0.5, 45)\n",
      "Current best params: (5, 0.5, 45)\n",
      "Current best params: (5, 0.5, 45)\n",
      "Current best params: (5, 0.5, 45)\n",
      "Current best params: (5, 0.5, 45)\n",
      "Current best params: (5, 0.5, 45)\n",
      "Current best params: (5, 0.5, 45)\n",
      "Current best params: (5, 0.5, 45)\n",
      "Current best params: (5, 0.5, 45)\n",
      "Current best params: (5, 0.5, 45)\n",
      "Current best params: (5, 0.5, 45)\n",
      "Current best params: (5, 0.5, 45)\n",
      "Current best params: (5, 0.5, 45)\n",
      "Current best params: (5, 0.5, 45)\n",
      "Current best params: (5, 0.5, 45)\n",
      "Current best params: (5, 0.5, 45)\n",
      "Current best params: (5, 0.5, 45)\n",
      "Current best params: (5, 0.5, 45)\n",
      "Current best params: (5, 0.5, 45)\n",
      "Current best params: (5, 0.5, 45)\n",
      "Current best params: (5, 0.5, 45)\n",
      "Current best params: (5, 0.5, 45)\n",
      "Current best params: (5, 0.5, 45)\n",
      "Current best params: (5, 0.5, 45)\n",
      "Current best params: (5, 0.5, 45)\n",
      "Current best params: (5, 0.5, 45)\n",
      "Current best params: (5, 0.5, 45)\n",
      "Current best params: (5, 0.5, 45)\n",
      "Current best params: (5, 0.5, 45)\n"
     ]
    }
   ],
   "source": [
    "grid_params = [\n",
    "    (max_depth, learning_rate, alpha)\n",
    "    for max_depth in range(5,20,5)\n",
    "    for learning_rate in [.01,.1,.5]\n",
    "    for alpha in range(0,50,5)\n",
    "]\n",
    "\n",
    "min_rmse = float('inf')\n",
    "best_params = None\n",
    "\n",
    "for max_depth,learning_rate,alpha in grid_params:\n",
    "    params = {\n",
    "        'max_depth' : max_depth,\n",
    "        'learning_rate' : learning_rate,\n",
    "        'alpha' : alpha,\n",
    "    }\n",
    "    results = xgb.cv(\n",
    "        params,\n",
    "        data_matrix,\n",
    "        num_boost_round=500,\n",
    "        early_stopping_rounds=5,\n",
    "        metrics='rmse',\n",
    "    )\n",
    "    current_rmse = results['test-rmse-mean'].min()\n",
    "    if current_rmse < min_rmse:\n",
    "        min_rmse = current_rmse\n",
    "        best_params = (max_depth,learning_rate,alpha)\n",
    "    print(f'Current best params: {best_params}')\n"
   ]
  },
  {
   "cell_type": "code",
   "execution_count": 14,
   "metadata": {},
   "outputs": [
    {
     "data": {
      "text/plain": [
       "(5, 0.5, 45)"
      ]
     },
     "execution_count": 14,
     "metadata": {},
     "output_type": "execute_result"
    }
   ],
   "source": [
    "best_params"
   ]
  },
  {
   "cell_type": "code",
   "execution_count": 15,
   "metadata": {},
   "outputs": [],
   "source": [
    "from sklearn.model_selection import train_test_split"
   ]
  },
  {
   "cell_type": "code",
   "execution_count": 16,
   "metadata": {},
   "outputs": [],
   "source": [
    "xtrain, xtest, ytrain, ytest = train_test_split(X,y,test_size=.3,random_state=1234)"
   ]
  },
  {
   "cell_type": "code",
   "execution_count": 17,
   "metadata": {},
   "outputs": [
    {
     "name": "stderr",
     "output_type": "stream",
     "text": [
      "C:\\Users\\aishw\\miniconda3\\envs\\digi\\lib\\site-packages\\xgboost\\data.py:262: FutureWarning: pandas.Int64Index is deprecated and will be removed from pandas in a future version. Use pandas.Index with the appropriate dtype instead.\n",
      "  elif isinstance(data.columns, (pd.Int64Index, pd.RangeIndex)):\n"
     ]
    }
   ],
   "source": [
    "train_matrix = xgb.DMatrix(xtrain,ytrain)\n",
    "test_matrix = xgb.DMatrix(xtest,ytest)\n"
   ]
  },
  {
   "cell_type": "code",
   "execution_count": 18,
   "metadata": {},
   "outputs": [
    {
     "name": "stdout",
     "output_type": "stream",
     "text": [
      "[0]\ttest-rmse:128478.05469\n",
      "[1]\ttest-rmse:72552.41406\n",
      "[2]\ttest-rmse:50759.97266\n",
      "[3]\ttest-rmse:45224.98047\n",
      "[4]\ttest-rmse:44342.80469\n",
      "[5]\ttest-rmse:44436.41406\n",
      "[6]\ttest-rmse:45128.63281\n",
      "[7]\ttest-rmse:46169.65625\n",
      "[8]\ttest-rmse:46801.19922\n"
     ]
    }
   ],
   "source": [
    "model = xgb.train(\n",
    "     params,\n",
    "     train_matrix,\n",
    "     num_boost_round=500,\n",
    "     early_stopping_rounds=5,\n",
    "     evals=[(test_matrix,'test')],\n",
    ")\n",
    "model.save_model('house_pricing_model.xgb')"
   ]
  },
  {
   "cell_type": "code",
   "execution_count": 19,
   "metadata": {},
   "outputs": [],
   "source": [
    "saved_model = xgb.Booster()\n",
    "saved_model.load_model('house_pricing_model.xgb')"
   ]
  },
  {
   "cell_type": "code",
   "execution_count": 20,
   "metadata": {},
   "outputs": [
    {
     "data": {
      "text/html": [
       "<div>\n",
       "<style scoped>\n",
       "    .dataframe tbody tr th:only-of-type {\n",
       "        vertical-align: middle;\n",
       "    }\n",
       "\n",
       "    .dataframe tbody tr th {\n",
       "        vertical-align: top;\n",
       "    }\n",
       "\n",
       "    .dataframe thead th {\n",
       "        text-align: right;\n",
       "    }\n",
       "</style>\n",
       "<table border=\"1\" class=\"dataframe\">\n",
       "  <thead>\n",
       "    <tr style=\"text-align: right;\">\n",
       "      <th></th>\n",
       "      <th>Baths</th>\n",
       "      <th>SquareFeet</th>\n",
       "      <th>Beds</th>\n",
       "    </tr>\n",
       "  </thead>\n",
       "  <tbody>\n",
       "    <tr>\n",
       "      <th>0</th>\n",
       "      <td>1</td>\n",
       "      <td>836</td>\n",
       "      <td>2</td>\n",
       "    </tr>\n",
       "    <tr>\n",
       "      <th>1</th>\n",
       "      <td>1</td>\n",
       "      <td>1167</td>\n",
       "      <td>3</td>\n",
       "    </tr>\n",
       "  </tbody>\n",
       "</table>\n",
       "</div>"
      ],
      "text/plain": [
       "   Baths  SquareFeet  Beds\n",
       "0      1         836     2\n",
       "1      1        1167     3"
      ]
     },
     "execution_count": 20,
     "metadata": {},
     "output_type": "execute_result"
    }
   ],
   "source": [
    "X.head(2)"
   ]
  },
  {
   "cell_type": "code",
   "execution_count": 21,
   "metadata": {},
   "outputs": [
    {
     "name": "stderr",
     "output_type": "stream",
     "text": [
      "C:\\Users\\aishw\\miniconda3\\envs\\digi\\lib\\site-packages\\xgboost\\data.py:262: FutureWarning: pandas.Int64Index is deprecated and will be removed from pandas in a future version. Use pandas.Index with the appropriate dtype instead.\n",
      "  elif isinstance(data.columns, (pd.Int64Index, pd.RangeIndex)):\n"
     ]
    },
    {
     "data": {
      "text/plain": [
       "array([136308.56, 174246.06], dtype=float32)"
      ]
     },
     "execution_count": 21,
     "metadata": {},
     "output_type": "execute_result"
    }
   ],
   "source": [
    "saved_model.predict(xgb.DMatrix(X.head(2)))"
   ]
  },
  {
   "cell_type": "code",
   "execution_count": 22,
   "metadata": {},
   "outputs": [
    {
     "data": {
      "text/plain": [
       "0    138159.85\n",
       "1    167541.46\n",
       "Name: Price, dtype: float64"
      ]
     },
     "execution_count": 22,
     "metadata": {},
     "output_type": "execute_result"
    }
   ],
   "source": [
    "y[:2]"
   ]
  },
  {
   "cell_type": "code",
   "execution_count": 23,
   "metadata": {},
   "outputs": [],
   "source": [
    "import matplotlib.pyplot as plt"
   ]
  },
  {
   "cell_type": "code",
   "execution_count": 24,
   "metadata": {},
   "outputs": [
    {
     "data": {
      "text/plain": [
       "<AxesSubplot:title={'center':'Feature importance'}, xlabel='F score', ylabel='Features'>"
      ]
     },
     "execution_count": 24,
     "metadata": {},
     "output_type": "execute_result"
    },
    {
     "data": {
      "image/png": "[encoded data removed]",
      "text/plain": [
       "<Figure size 432x288 with 1 Axes>"
      ]
     },
     "metadata": {
      "needs_background": "light"
     },
     "output_type": "display_data"
    }
   ],
   "source": [
    "xgb.plot_importance(model) # tells us which features are important"
   ]
  },
  {
   "cell_type": "code",
   "execution_count": 25,
   "metadata": {},
   "outputs": [
    {
     "data": {
      "text/html": [
       "<div>\n",
       "<style scoped>\n",
       "    .dataframe tbody tr th:only-of-type {\n",
       "        vertical-align: middle;\n",
       "    }\n",
       "\n",
       "    .dataframe tbody tr th {\n",
       "        vertical-align: top;\n",
       "    }\n",
       "\n",
       "    .dataframe thead th {\n",
       "        text-align: right;\n",
       "    }\n",
       "</style>\n",
       "<table border=\"1\" class=\"dataframe\">\n",
       "  <thead>\n",
       "    <tr style=\"text-align: right;\">\n",
       "      <th></th>\n",
       "      <th>Beds</th>\n",
       "      <th>Baths</th>\n",
       "      <th>SquareFeet</th>\n",
       "      <th>Price</th>\n",
       "      <th>pred</th>\n",
       "    </tr>\n",
       "  </thead>\n",
       "  <tbody>\n",
       "    <tr>\n",
       "      <th>0</th>\n",
       "      <td>2</td>\n",
       "      <td>1</td>\n",
       "      <td>836</td>\n",
       "      <td>138159.85</td>\n",
       "      <td>136308.562500</td>\n",
       "    </tr>\n",
       "    <tr>\n",
       "      <th>1</th>\n",
       "      <td>3</td>\n",
       "      <td>1</td>\n",
       "      <td>1167</td>\n",
       "      <td>167541.46</td>\n",
       "      <td>174246.062500</td>\n",
       "    </tr>\n",
       "    <tr>\n",
       "      <th>2</th>\n",
       "      <td>2</td>\n",
       "      <td>1</td>\n",
       "      <td>796</td>\n",
       "      <td>119095.12</td>\n",
       "      <td>143760.390625</td>\n",
       "    </tr>\n",
       "    <tr>\n",
       "      <th>3</th>\n",
       "      <td>2</td>\n",
       "      <td>1</td>\n",
       "      <td>852</td>\n",
       "      <td>130904.95</td>\n",
       "      <td>133892.750000</td>\n",
       "    </tr>\n",
       "    <tr>\n",
       "      <th>4</th>\n",
       "      <td>2</td>\n",
       "      <td>1</td>\n",
       "      <td>797</td>\n",
       "      <td>120266.19</td>\n",
       "      <td>122930.515625</td>\n",
       "    </tr>\n",
       "  </tbody>\n",
       "</table>\n",
       "</div>"
      ],
      "text/plain": [
       "   Beds  Baths  SquareFeet      Price           pred\n",
       "0     2      1         836  138159.85  136308.562500\n",
       "1     3      1        1167  167541.46  174246.062500\n",
       "2     2      1         796  119095.12  143760.390625\n",
       "3     2      1         852  130904.95  133892.750000\n",
       "4     2      1         797  120266.19  122930.515625"
      ]
     },
     "execution_count": 25,
     "metadata": {},
     "output_type": "execute_result"
    }
   ],
   "source": [
    "df['pred']=saved_model.predict(xgb.DMatrix(X))\n",
    "df.head()"
   ]
  },
  {
   "cell_type": "code",
   "execution_count": 27,
   "metadata": {},
   "outputs": [
    {
     "data": {
      "image/png": "[encoded data removed]",
      "text/plain": [
       "<Figure size 1080x360 with 1 Axes>"
      ]
     },
     "metadata": {
      "needs_background": "light"
     },
     "output_type": "display_data"
    }
   ],
   "source": [
    "ax = df['Price'].plot.kde(label='Actual',figsize=(15,5))\n",
    "df['pred'].plot.kde(ax=ax,linewidth=6,label='Predicted',alpha=.7)\n",
    "plt.show()"
   ]
  }
 ],
 "metadata": {
  "interpreter": {
   "hash": "8b22f770f2ab500b3c21b05978925f2751bd2b771b224a6edc9c6364d5ce1268"
  },
  "kernelspec": {
   "display_name": "Python 3.9.7 ('digi')",
   "language": "python",
   "name": "python3"
  },
  "language_info": {
   "codemirror_mode": {
    "name": "ipython",
    "version": 3
   },
   "file_extension": ".py",
   "mimetype": "text/x-python",
   "name": "python",
   "nbconvert_exporter": "python",
   "pygments_lexer": "ipython3",
   "version": "3.9.7"
  },
  "orig_nbformat": 4
 },
 "nbformat": 4,
 "nbformat_minor": 2
}
