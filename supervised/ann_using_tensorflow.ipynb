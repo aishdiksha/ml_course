{
 "cells": [
  {
   "cell_type": "code",
   "execution_count": 1,
   "metadata": {},
   "outputs": [],
   "source": [
    "import tensorflow as tf"
   ]
  },
  {
   "cell_type": "code",
   "execution_count": 2,
   "metadata": {},
   "outputs": [
    {
     "data": {
      "text/plain": [
       "'2.8.0'"
      ]
     },
     "execution_count": 2,
     "metadata": {},
     "output_type": "execute_result"
    }
   ],
   "source": [
    "tf.__version__"
   ]
  },
  {
   "cell_type": "code",
   "execution_count": 3,
   "metadata": {},
   "outputs": [
    {
     "name": "stdout",
     "output_type": "stream",
     "text": [
      "Downloading data from https://storage.googleapis.com/tensorflow/tf-keras-datasets/boston_housing.npz\n",
      "57344/57026 [==============================] - 1s 12us/step\n",
      "65536/57026 [==================================] - 1s 11us/step\n"
     ]
    }
   ],
   "source": [
    "(xtrain,ytrain),(xtest,ytest) = tf.keras.datasets.boston_housing.load_data()"
   ]
  },
  {
   "cell_type": "code",
   "execution_count": 4,
   "metadata": {},
   "outputs": [
    {
     "data": {
      "text/plain": [
       "(102, 13)"
      ]
     },
     "execution_count": 4,
     "metadata": {},
     "output_type": "execute_result"
    }
   ],
   "source": [
    "xtest.shape"
   ]
  },
  {
   "cell_type": "code",
   "execution_count": 5,
   "metadata": {},
   "outputs": [
    {
     "data": {
      "text/plain": [
       "(102,)"
      ]
     },
     "execution_count": 5,
     "metadata": {},
     "output_type": "execute_result"
    }
   ],
   "source": [
    "ytest.shape"
   ]
  },
  {
   "cell_type": "markdown",
   "metadata": {},
   "source": [
    "Build a model"
   ]
  },
  {
   "cell_type": "code",
   "execution_count": 6,
   "metadata": {},
   "outputs": [],
   "source": [
    "norm = tf.keras.layers.Normalization()\n",
    "norm.adapt(xtrain)"
   ]
  },
  {
   "cell_type": "code",
   "execution_count": 7,
   "metadata": {},
   "outputs": [
    {
     "name": "stdout",
     "output_type": "stream",
     "text": [
      "Model: \"sequential\"\n",
      "_________________________________________________________________\n",
      " Layer (type)                Output Shape              Param #   \n",
      "=================================================================\n",
      " normalization (Normalizatio  (None, 13)               27        \n",
      " n)                                                              \n",
      "                                                                 \n",
      " dense (Dense)               (None, 32)                448       \n",
      "                                                                 \n",
      " dense_1 (Dense)             (None, 32)                1056      \n",
      "                                                                 \n",
      " dense_2 (Dense)             (None, 1)                 33        \n",
      "                                                                 \n",
      "=================================================================\n",
      "Total params: 1,564\n",
      "Trainable params: 1,537\n",
      "Non-trainable params: 27\n",
      "_________________________________________________________________\n"
     ]
    }
   ],
   "source": [
    "model = tf.keras.models.Sequential()\n",
    "model.add(norm)\n",
    "model.add(tf.keras.layers.Dense(32,input_shape=(13,), activation='relu'))\n",
    "model.add(tf.keras.layers.Dense(32, activation='relu'))\n",
    "model.add(tf.keras.layers.Dense(1))\n",
    "model.summary()"
   ]
  },
  {
   "cell_type": "markdown",
   "metadata": {},
   "source": [
    "Compile the model"
   ]
  },
  {
   "cell_type": "code",
   "execution_count": 8,
   "metadata": {},
   "outputs": [],
   "source": [
    "model.compile(\n",
    "    optimizer = tf.keras.optimizers.Adam(),\n",
    "    loss = 'mean_absolute_error',\n",
    ")"
   ]
  },
  {
   "cell_type": "markdown",
   "metadata": {},
   "source": [
    "train model"
   ]
  },
  {
   "cell_type": "code",
   "execution_count": 9,
   "metadata": {},
   "outputs": [],
   "source": [
    "es = tf.keras.callbacks.EarlyStopping(patience=5)"
   ]
  },
  {
   "cell_type": "code",
   "execution_count": 10,
   "metadata": {},
   "outputs": [
    {
     "name": "stdout",
     "output_type": "stream",
     "text": [
      "Epoch 1/100\n",
      "13/13 [==============================] - 0s 9ms/step - loss: 22.1688 - val_loss: 22.5810\n",
      "Epoch 2/100\n",
      "13/13 [==============================] - 0s 2ms/step - loss: 21.6423 - val_loss: 22.0031\n",
      "Epoch 3/100\n",
      "13/13 [==============================] - 0s 2ms/step - loss: 21.0030 - val_loss: 21.2414\n",
      "Epoch 4/100\n",
      "13/13 [==============================] - 0s 2ms/step - loss: 20.1075 - val_loss: 20.1692\n",
      "Epoch 5/100\n",
      "13/13 [==============================] - 0s 2ms/step - loss: 18.8508 - val_loss: 18.6370\n",
      "Epoch 6/100\n",
      "13/13 [==============================] - 0s 3ms/step - loss: 17.0457 - val_loss: 16.4675\n",
      "Epoch 7/100\n",
      "13/13 [==============================] - 0s 2ms/step - loss: 14.5906 - val_loss: 13.6892\n",
      "Epoch 8/100\n",
      "13/13 [==============================] - 0s 2ms/step - loss: 11.6004 - val_loss: 10.8648\n",
      "Epoch 9/100\n",
      "13/13 [==============================] - 0s 3ms/step - loss: 8.6896 - val_loss: 8.5059\n",
      "Epoch 10/100\n",
      "13/13 [==============================] - 0s 2ms/step - loss: 7.0435 - val_loss: 7.2206\n",
      "Epoch 11/100\n",
      "13/13 [==============================] - 0s 3ms/step - loss: 6.1592 - val_loss: 6.5071\n",
      "Epoch 12/100\n",
      "13/13 [==============================] - 0s 3ms/step - loss: 5.4504 - val_loss: 5.8356\n",
      "Epoch 13/100\n",
      "13/13 [==============================] - 0s 2ms/step - loss: 4.7311 - val_loss: 5.3001\n",
      "Epoch 14/100\n",
      "13/13 [==============================] - 0s 3ms/step - loss: 4.2675 - val_loss: 4.8845\n",
      "Epoch 15/100\n",
      "13/13 [==============================] - 0s 2ms/step - loss: 3.9113 - val_loss: 4.5708\n",
      "Epoch 16/100\n",
      "13/13 [==============================] - 0s 2ms/step - loss: 3.7024 - val_loss: 4.3167\n",
      "Epoch 17/100\n",
      "13/13 [==============================] - 0s 2ms/step - loss: 3.4943 - val_loss: 4.2118\n",
      "Epoch 18/100\n",
      "13/13 [==============================] - 0s 2ms/step - loss: 3.3899 - val_loss: 4.1694\n",
      "Epoch 19/100\n",
      "13/13 [==============================] - 0s 2ms/step - loss: 3.2703 - val_loss: 3.9851\n",
      "Epoch 20/100\n",
      "13/13 [==============================] - 0s 3ms/step - loss: 3.1972 - val_loss: 3.9132\n",
      "Epoch 21/100\n",
      "13/13 [==============================] - 0s 2ms/step - loss: 3.1192 - val_loss: 3.8528\n",
      "Epoch 22/100\n",
      "13/13 [==============================] - 0s 3ms/step - loss: 3.0499 - val_loss: 3.7904\n",
      "Epoch 23/100\n",
      "13/13 [==============================] - 0s 3ms/step - loss: 2.9955 - val_loss: 3.7611\n",
      "Epoch 24/100\n",
      "13/13 [==============================] - 0s 2ms/step - loss: 2.9270 - val_loss: 3.6765\n",
      "Epoch 25/100\n",
      "13/13 [==============================] - 0s 2ms/step - loss: 2.8738 - val_loss: 3.6610\n",
      "Epoch 26/100\n",
      "13/13 [==============================] - 0s 3ms/step - loss: 2.8305 - val_loss: 3.5690\n",
      "Epoch 27/100\n",
      "13/13 [==============================] - 0s 3ms/step - loss: 2.7847 - val_loss: 3.5544\n",
      "Epoch 28/100\n",
      "13/13 [==============================] - 0s 2ms/step - loss: 2.7502 - val_loss: 3.4937\n",
      "Epoch 29/100\n",
      "13/13 [==============================] - 0s 3ms/step - loss: 2.6981 - val_loss: 3.4485\n",
      "Epoch 30/100\n",
      "13/13 [==============================] - 0s 2ms/step - loss: 2.6522 - val_loss: 3.4108\n",
      "Epoch 31/100\n",
      "13/13 [==============================] - 0s 3ms/step - loss: 2.6300 - val_loss: 3.4191\n",
      "Epoch 32/100\n",
      "13/13 [==============================] - 0s 2ms/step - loss: 2.5767 - val_loss: 3.3520\n",
      "Epoch 33/100\n",
      "13/13 [==============================] - 0s 3ms/step - loss: 2.5526 - val_loss: 3.3316\n",
      "Epoch 34/100\n",
      "13/13 [==============================] - 0s 2ms/step - loss: 2.5093 - val_loss: 3.2883\n",
      "Epoch 35/100\n",
      "13/13 [==============================] - 0s 3ms/step - loss: 2.4925 - val_loss: 3.2534\n",
      "Epoch 36/100\n",
      "13/13 [==============================] - 0s 2ms/step - loss: 2.4556 - val_loss: 3.2150\n",
      "Epoch 37/100\n",
      "13/13 [==============================] - 0s 2ms/step - loss: 2.4173 - val_loss: 3.1990\n",
      "Epoch 38/100\n",
      "13/13 [==============================] - 0s 5ms/step - loss: 2.3839 - val_loss: 3.1417\n",
      "Epoch 39/100\n",
      "13/13 [==============================] - 0s 2ms/step - loss: 2.3661 - val_loss: 3.0763\n",
      "Epoch 40/100\n",
      "13/13 [==============================] - 0s 2ms/step - loss: 2.3499 - val_loss: 3.0992\n",
      "Epoch 41/100\n",
      "13/13 [==============================] - 0s 2ms/step - loss: 2.3102 - val_loss: 3.0504\n",
      "Epoch 42/100\n",
      "13/13 [==============================] - 0s 3ms/step - loss: 2.2927 - val_loss: 3.0515\n",
      "Epoch 43/100\n",
      "13/13 [==============================] - 0s 3ms/step - loss: 2.2715 - val_loss: 3.0496\n",
      "Epoch 44/100\n",
      "13/13 [==============================] - 0s 3ms/step - loss: 2.2517 - val_loss: 3.0505\n",
      "Epoch 45/100\n",
      "13/13 [==============================] - 0s 3ms/step - loss: 2.2407 - val_loss: 3.0329\n",
      "Epoch 46/100\n",
      "13/13 [==============================] - 0s 3ms/step - loss: 2.2411 - val_loss: 3.0031\n",
      "Epoch 47/100\n",
      "13/13 [==============================] - 0s 3ms/step - loss: 2.2270 - val_loss: 3.0266\n",
      "Epoch 48/100\n",
      "13/13 [==============================] - 0s 3ms/step - loss: 2.2000 - val_loss: 3.0502\n",
      "Epoch 49/100\n",
      "13/13 [==============================] - 0s 2ms/step - loss: 2.1960 - val_loss: 3.0179\n",
      "Epoch 50/100\n",
      "13/13 [==============================] - 0s 3ms/step - loss: 2.1884 - val_loss: 2.9294\n",
      "Epoch 51/100\n",
      "13/13 [==============================] - 0s 3ms/step - loss: 2.1869 - val_loss: 3.0407\n",
      "Epoch 52/100\n",
      "13/13 [==============================] - 0s 3ms/step - loss: 2.1626 - val_loss: 2.9659\n",
      "Epoch 53/100\n",
      "13/13 [==============================] - 0s 3ms/step - loss: 2.1346 - val_loss: 3.0366\n",
      "Epoch 54/100\n",
      "13/13 [==============================] - 0s 3ms/step - loss: 2.1497 - val_loss: 2.9331\n",
      "Epoch 55/100\n",
      "13/13 [==============================] - 0s 2ms/step - loss: 2.1466 - val_loss: 2.9934\n"
     ]
    }
   ],
   "source": [
    "history = model.fit(\n",
    "    x = xtrain,\n",
    "    y = ytrain,\n",
    "    epochs = 100,\n",
    "    validation_data = [xtest, ytest],\n",
    "    callbacks=[es]\n",
    ")"
   ]
  },
  {
   "cell_type": "code",
   "execution_count": 11,
   "metadata": {},
   "outputs": [],
   "source": [
    "import pandas as pd"
   ]
  },
  {
   "cell_type": "code",
   "execution_count": 12,
   "metadata": {},
   "outputs": [
    {
     "data": {
      "text/html": [
       "<div>\n",
       "<style scoped>\n",
       "    .dataframe tbody tr th:only-of-type {\n",
       "        vertical-align: middle;\n",
       "    }\n",
       "\n",
       "    .dataframe tbody tr th {\n",
       "        vertical-align: top;\n",
       "    }\n",
       "\n",
       "    .dataframe thead th {\n",
       "        text-align: right;\n",
       "    }\n",
       "</style>\n",
       "<table border=\"1\" class=\"dataframe\">\n",
       "  <thead>\n",
       "    <tr style=\"text-align: right;\">\n",
       "      <th></th>\n",
       "      <th>loss</th>\n",
       "      <th>val_loss</th>\n",
       "      <th>epoch</th>\n",
       "    </tr>\n",
       "  </thead>\n",
       "  <tbody>\n",
       "    <tr>\n",
       "      <th>0</th>\n",
       "      <td>22.168808</td>\n",
       "      <td>22.580954</td>\n",
       "      <td>0</td>\n",
       "    </tr>\n",
       "    <tr>\n",
       "      <th>1</th>\n",
       "      <td>21.642345</td>\n",
       "      <td>22.003067</td>\n",
       "      <td>1</td>\n",
       "    </tr>\n",
       "    <tr>\n",
       "      <th>2</th>\n",
       "      <td>21.002960</td>\n",
       "      <td>21.241405</td>\n",
       "      <td>2</td>\n",
       "    </tr>\n",
       "    <tr>\n",
       "      <th>3</th>\n",
       "      <td>20.107540</td>\n",
       "      <td>20.169155</td>\n",
       "      <td>3</td>\n",
       "    </tr>\n",
       "    <tr>\n",
       "      <th>4</th>\n",
       "      <td>18.850760</td>\n",
       "      <td>18.636980</td>\n",
       "      <td>4</td>\n",
       "    </tr>\n",
       "  </tbody>\n",
       "</table>\n",
       "</div>"
      ],
      "text/plain": [
       "        loss   val_loss  epoch\n",
       "0  22.168808  22.580954      0\n",
       "1  21.642345  22.003067      1\n",
       "2  21.002960  21.241405      2\n",
       "3  20.107540  20.169155      3\n",
       "4  18.850760  18.636980      4"
      ]
     },
     "execution_count": 12,
     "metadata": {},
     "output_type": "execute_result"
    }
   ],
   "source": [
    "df = pd.DataFrame(history.history)\n",
    "df['epoch'] = history.epoch\n",
    "df.head()"
   ]
  },
  {
   "cell_type": "code",
   "execution_count": 13,
   "metadata": {},
   "outputs": [],
   "source": [
    "import matplotlib.pyplot as plt"
   ]
  },
  {
   "cell_type": "code",
   "execution_count": 14,
   "metadata": {},
   "outputs": [],
   "source": [
    "def plot_loss(df):\n",
    "    plt.plot(df['loss'], label='training loss')\n",
    "    plt.plot(df['val_loss'], label='validation loss')\n",
    "    plt.ylim([0,10])\n",
    "    plt.xlabel('epoch')\n",
    "    plt.ylabel('Error (MAE)')\n",
    "    plt.legend()\n",
    "    plt.grid(True)"
   ]
  },
  {
   "cell_type": "code",
   "execution_count": 15,
   "metadata": {},
   "outputs": [
    {
     "data": {
      "image/png": "[encoded data removed]",
      "text/plain": [
       "<Figure size 432x288 with 1 Axes>"
      ]
     },
     "metadata": {
      "needs_background": "light"
     },
     "output_type": "display_data"
    }
   ],
   "source": [
    "plot_loss(df)\n",
    "plt.show()"
   ]
  },
  {
   "cell_type": "markdown",
   "metadata": {},
   "source": [
    "Save model"
   ]
  },
  {
   "cell_type": "code",
   "execution_count": 16,
   "metadata": {},
   "outputs": [
    {
     "name": "stdout",
     "output_type": "stream",
     "text": [
      "INFO:tensorflow:Assets written to: bhpricing\\assets\n"
     ]
    }
   ],
   "source": [
    "model.save(\"bhpricing\")"
   ]
  },
  {
   "cell_type": "markdown",
   "metadata": {},
   "source": [
    "Predicition"
   ]
  },
  {
   "cell_type": "code",
   "execution_count": 17,
   "metadata": {},
   "outputs": [],
   "source": [
    "ypred = model.predict(xtest)"
   ]
  },
  {
   "cell_type": "code",
   "execution_count": null,
   "metadata": {},
   "outputs": [],
   "source": []
  }
 ],
 "metadata": {
  "interpreter": {
   "hash": "8b22f770f2ab500b3c21b05978925f2751bd2b771b224a6edc9c6364d5ce1268"
  },
  "kernelspec": {
   "display_name": "Python 3.9.7 ('digi')",
   "language": "python",
   "name": "python3"
  },
  "language_info": {
   "codemirror_mode": {
    "name": "ipython",
    "version": 3
   },
   "file_extension": ".py",
   "mimetype": "text/x-python",
   "name": "python",
   "nbconvert_exporter": "python",
   "pygments_lexer": "ipython3",
   "version": "3.9.7"
  },
  "orig_nbformat": 4
 },
 "nbformat": 4,
 "nbformat_minor": 2
}
