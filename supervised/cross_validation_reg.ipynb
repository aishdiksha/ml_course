{
 "cells": [
  {
   "cell_type": "code",
   "execution_count": null,
   "metadata": {},
   "outputs": [],
   "source": [
    "import pandas as pd\n",
    "import matplotlib.pyplot as plt\n",
    "import numpy as np\n",
    "\n",
    "from sklearn.tree import DecisionTreeRegressor\n",
    "from sklearn.linear_model import LinearRegression\n",
    "from sklearn.ensemble import RandomForestRegressor\n",
    "\n",
    "from sklearn.model_selection import train_test_split\n",
    "from sklearn.metrics import mean_squared_error, mean_absolute_error\n",
    "from sklearn.model_selection import cross_val_score\n",
    "\n",
    "from joblib import dump , load\n",
    "import plotly.express as px"
   ]
  },
  {
   "cell_type": "code",
   "execution_count": null,
   "metadata": {},
   "outputs": [],
   "source": [
    "df=pd.read_csv(\"https://raw.githubusercontent.com/digipodium/Datasets/main/house_pricing.csv\")\n",
    "df.info()\n",
    "df.head(2)"
   ]
  },
  {
   "cell_type": "code",
   "execution_count": null,
   "metadata": {},
   "outputs": [],
   "source": [
    "X = df[['Beds','Baths','SquareFeet']]\n",
    "y = df['Price']\n",
    "xtrain,xtest,ytrain,ytest = train_test_split(X,y,test_size=.2,random_state=1)"
   ]
  },
  {
   "cell_type": "code",
   "execution_count": null,
   "metadata": {},
   "outputs": [],
   "source": [
    "print(\"Decision Tree\")\n",
    "model1 = DecisionTreeRegressor(max_depth=25)\n",
    "model1.fit(xtrain,ytrain)\n",
    "print(\"score:\",model1.score(xtest,ytest)*100)\n",
    "pred = model1.predict(X)\n",
    "print(\"mse:\",mean_squared_error(y,pred))\n",
    "print(\"mse:\",mean_absolute_error(y,pred))\n"
   ]
  },
  {
   "cell_type": "code",
   "execution_count": null,
   "metadata": {},
   "outputs": [],
   "source": [
    "print(\"random Forest\")\n",
    "model2 = RandomForestRegressor(max_depth=25)\n",
    "model2.fit(xtrain,ytrain)\n",
    "print(\"score:\",model2.score(xtest,ytest)*100)\n",
    "pred = model2.predict(X)\n",
    "print(\"mse:\",mean_squared_error(y,pred))\n",
    "print(\"mse:\",mean_absolute_error(y,pred))\n"
   ]
  },
  {
   "cell_type": "code",
   "execution_count": null,
   "metadata": {},
   "outputs": [],
   "source": [
    "print(\"Linear Regression\")\n",
    "model3 = LinearRegression()\n",
    "model3.fit(xtrain,ytrain)\n",
    "print(\"score:\",model3.score(xtest,ytest)*100)\n",
    "pred = model3.predict(X)\n",
    "print(\"mse:\",mean_squared_error(y,pred))\n",
    "print(\"mse:\",mean_absolute_error(y,pred))\n"
   ]
  },
  {
   "cell_type": "markdown",
   "metadata": {},
   "source": [
    "CROSS VALIDATION"
   ]
  },
  {
   "cell_type": "code",
   "execution_count": null,
   "metadata": {},
   "outputs": [],
   "source": [
    "tree_score= cross_val_score(model1,X,y,cv=6)\n",
    "print(tree_score,f\"average:{tree_score.mean():.2f}\"f\"std:{tree_score.std():.2f}\")"
   ]
  },
  {
   "cell_type": "code",
   "execution_count": null,
   "metadata": {},
   "outputs": [],
   "source": [
    "forest_score = cross_val_score(model2,X,y,cv=6)\n",
    "print(forest_score,f\"average:{forest_score.mean():.2f}\",f\"std:{forest_score.std():.2f}\")"
   ]
  },
  {
   "cell_type": "code",
   "execution_count": null,
   "metadata": {},
   "outputs": [],
   "source": [
    "linear_score= cross_val_score(model3,X,y,cv=6)\n",
    "print(linear_score,f\"average:{linear_score.mean():.2f}\"f\"std:{linear_score.std():.2f}\")"
   ]
  },
  {
   "cell_type": "code",
   "execution_count": null,
   "metadata": {},
   "outputs": [],
   "source": []
  }
 ],
 "metadata": {
  "interpreter": {
   "hash": "8b22f770f2ab500b3c21b05978925f2751bd2b771b224a6edc9c6364d5ce1268"
  },
  "kernelspec": {
   "display_name": "Python 3.9.7 ('digi')",
   "language": "python",
   "name": "python3"
  },
  "language_info": {
   "codemirror_mode": {
    "name": "ipython",
    "version": 3
   },
   "file_extension": ".py",
   "mimetype": "text/x-python",
   "name": "python",
   "nbconvert_exporter": "python",
   "pygments_lexer": "ipython3",
   "version": "3.9.7"
  },
  "orig_nbformat": 4
 },
 "nbformat": 4,
 "nbformat_minor": 2
}
